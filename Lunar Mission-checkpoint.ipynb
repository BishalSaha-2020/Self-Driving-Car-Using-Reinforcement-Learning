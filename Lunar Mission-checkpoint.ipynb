{
 "cells": [
  {
   "cell_type": "code",
   "execution_count": 1,
   "id": "2451526b",
   "metadata": {},
   "outputs": [
    {
     "name": "stdout",
     "output_type": "stream",
     "text": [
      "Requirement already satisfied: box2d in c:\\users\\bishal saha\\appdata\\local\\programs\\python\\python37\\lib\\site-packages (2.3.10)\n"
     ]
    },
    {
     "name": "stderr",
     "output_type": "stream",
     "text": [
      "WARNING: Ignoring invalid distribution -pencv-python (c:\\users\\bishal saha\\appdata\\roaming\\python\\python37\\site-packages)\n",
      "WARNING: Ignoring invalid distribution -pencv-python (c:\\users\\bishal saha\\appdata\\roaming\\python\\python37\\site-packages)\n",
      "WARNING: Ignoring invalid distribution -pencv-python (c:\\users\\bishal saha\\appdata\\roaming\\python\\python37\\site-packages)\n",
      "WARNING: Ignoring invalid distribution -pencv-python (c:\\users\\bishal saha\\appdata\\roaming\\python\\python37\\site-packages)\n",
      "WARNING: Ignoring invalid distribution -pencv-python (c:\\users\\bishal saha\\appdata\\roaming\\python\\python37\\site-packages)\n",
      "WARNING: Ignoring invalid distribution -pencv-python (c:\\users\\bishal saha\\appdata\\roaming\\python\\python37\\site-packages)\n",
      "WARNING: You are using pip version 21.3.1; however, version 22.3 is available.\n",
      "You should consider upgrading via the 'C:\\Users\\BISHAL SAHA\\AppData\\Local\\Programs\\Python\\Python37\\python.exe -m pip install --upgrade pip' command.\n"
     ]
    }
   ],
   "source": [
    "!pip install box2d"
   ]
  },
  {
   "cell_type": "code",
   "execution_count": 3,
   "id": "191fbe0c",
   "metadata": {},
   "outputs": [
    {
     "name": "stdout",
     "output_type": "stream",
     "text": [
      "Collecting box2d.py\n",
      "  Using cached box2d-py-2.3.8.tar.gz (374 kB)\n",
      "  Preparing metadata (setup.py): started\n",
      "  Preparing metadata (setup.py): finished with status 'done'\n",
      "Building wheels for collected packages: box2d.py\n",
      "  Building wheel for box2d.py (setup.py): started\n",
      "  Building wheel for box2d.py (setup.py): finished with status 'error'\n",
      "  Running setup.py clean for box2d.py\n",
      "Failed to build box2d.py\n",
      "Installing collected packages: box2d.py\n",
      "    Running setup.py install for box2d.py: started\n",
      "    Running setup.py install for box2d.py: finished with status 'error'\n"
     ]
    },
    {
     "name": "stderr",
     "output_type": "stream",
     "text": [
      "WARNING: Ignoring invalid distribution -pencv-python (c:\\users\\bishal saha\\appdata\\roaming\\python\\python37\\site-packages)\n",
      "WARNING: Ignoring invalid distribution -pencv-python (c:\\users\\bishal saha\\appdata\\roaming\\python\\python37\\site-packages)\n",
      "  ERROR: Command errored out with exit status 1:\n",
      "   command: 'C:\\Users\\BISHAL SAHA\\AppData\\Local\\Programs\\Python\\Python37\\python.exe' -u -c 'import io, os, sys, setuptools, tokenize; sys.argv[0] = '\"'\"'C:\\\\Users\\\\BISHAL~1\\\\AppData\\\\Local\\\\Temp\\\\pip-install-fzih9jcx\\\\box2d-py_6028e7479a8b47e095b7ac2a33f051f1\\\\setup.py'\"'\"'; __file__='\"'\"'C:\\\\Users\\\\BISHAL~1\\\\AppData\\\\Local\\\\Temp\\\\pip-install-fzih9jcx\\\\box2d-py_6028e7479a8b47e095b7ac2a33f051f1\\\\setup.py'\"'\"';f = getattr(tokenize, '\"'\"'open'\"'\"', open)(__file__) if os.path.exists(__file__) else io.StringIO('\"'\"'from setuptools import setup; setup()'\"'\"');code = f.read().replace('\"'\"'\\r\\n'\"'\"', '\"'\"'\\n'\"'\"');f.close();exec(compile(code, __file__, '\"'\"'exec'\"'\"'))' bdist_wheel -d 'C:\\Users\\BISHAL~1\\AppData\\Local\\Temp\\pip-wheel-jmnocxk2'\n",
      "       cwd: C:\\Users\\BISHAL~1\\AppData\\Local\\Temp\\pip-install-fzih9jcx\\box2d-py_6028e7479a8b47e095b7ac2a33f051f1\\\n",
      "  Complete output (28 lines):\n",
      "  Using setuptools (version 47.1.0).\n",
      "  running bdist_wheel\n",
      "  running build\n",
      "  running build_py\n",
      "  creating build\n",
      "  creating build\\lib.win-amd64-3.7\n",
      "  creating build\\lib.win-amd64-3.7\\Box2D\n",
      "  copying library\\Box2D\\Box2D.py -> build\\lib.win-amd64-3.7\\Box2D\n",
      "  copying library\\Box2D\\__init__.py -> build\\lib.win-amd64-3.7\\Box2D\n",
      "  creating build\\lib.win-amd64-3.7\\Box2D\\b2\n",
      "  copying library\\Box2D\\b2\\__init__.py -> build\\lib.win-amd64-3.7\\Box2D\\b2\n",
      "  running build_ext\n",
      "  building 'Box2D._Box2D' extension\n",
      "  swigging Box2D\\Box2D.i to Box2D\\Box2D_wrap.cpp\n",
      "  C:\\Users\\BISHAL SAHA\\AppData\\Local\\Programs\\Python\\Python37\\Scripts\\swig.exe -python -c++ -IBox2D -small -O -includeall -ignoremissing -w201 -globals b2Globals -outdir library\\Box2D -keyword -w511 -D_SWIG_KWARGS -o Box2D\\Box2D_wrap.cpp Box2D\\Box2D.i\n",
      "  Box2D\\Common\\b2Math.h(67) : Warning 302: Identifier 'b2Vec2' redefined by %extend (ignored),\n",
      "  Box2D\\Box2D_math.i(47) : Warning 302: %extend definition of 'b2Vec2'.\n",
      "  Box2D\\Common\\b2Math.h(158) : Warning 302: Identifier 'b2Vec3' redefined by %extend (ignored),\n",
      "  Box2D\\Box2D_math.i(168) : Warning 302: %extend definition of 'b2Vec3'.\n",
      "  Box2D\\Common\\b2Math.h(197) : Warning 302: Identifier 'b2Mat22' redefined by %extend (ignored),\n",
      "  Box2D\\Box2D_math.i(301) : Warning 302: %extend definition of 'b2Mat22'.\n",
      "  Box2D\\Common\\b2Math.h(271) : Warning 302: Identifier 'b2Mat33' redefined by %extend (ignored),\n",
      "  Box2D\\Box2D_math.i(372) : Warning 302: %extend definition of 'b2Mat33'.\n",
      "  Box2D\\Collision\\b2DynamicTree.h(44) : Warning 312: Nested union not currently supported (ignored).\n",
      "  Box2D\\Common\\b2Settings.h(144) : Warning 506: Can't wrap varargs with keyword arguments enabled\n",
      "  Box2D\\Common\\b2Math.h(91) : Warning 509: Overloaded method b2Vec2::operator ()(int32) effectively ignored,\n",
      "  Box2D\\Common\\b2Math.h(85) : Warning 509: as it is shadowed by b2Vec2::operator ()(int32) const.\n",
      "  error: Microsoft Visual C++ 14.0 is required. Get it with \"Build Tools for Visual Studio\": https://visualstudio.microsoft.com/downloads/\n",
      "  ----------------------------------------\n",
      "  ERROR: Failed building wheel for box2d.py\n",
      "WARNING: Ignoring invalid distribution -pencv-python (c:\\users\\bishal saha\\appdata\\roaming\\python\\python37\\site-packages)\n",
      "    ERROR: Command errored out with exit status 1:\n",
      "     command: 'C:\\Users\\BISHAL SAHA\\AppData\\Local\\Programs\\Python\\Python37\\python.exe' -u -c 'import io, os, sys, setuptools, tokenize; sys.argv[0] = '\"'\"'C:\\\\Users\\\\BISHAL~1\\\\AppData\\\\Local\\\\Temp\\\\pip-install-fzih9jcx\\\\box2d-py_6028e7479a8b47e095b7ac2a33f051f1\\\\setup.py'\"'\"'; __file__='\"'\"'C:\\\\Users\\\\BISHAL~1\\\\AppData\\\\Local\\\\Temp\\\\pip-install-fzih9jcx\\\\box2d-py_6028e7479a8b47e095b7ac2a33f051f1\\\\setup.py'\"'\"';f = getattr(tokenize, '\"'\"'open'\"'\"', open)(__file__) if os.path.exists(__file__) else io.StringIO('\"'\"'from setuptools import setup; setup()'\"'\"');code = f.read().replace('\"'\"'\\r\\n'\"'\"', '\"'\"'\\n'\"'\"');f.close();exec(compile(code, __file__, '\"'\"'exec'\"'\"'))' install --record 'C:\\Users\\BISHAL~1\\AppData\\Local\\Temp\\pip-record-joaqzft8\\install-record.txt' --single-version-externally-managed --user --prefix= --compile --install-headers 'C:\\Users\\BISHAL SAHA\\AppData\\Roaming\\Python\\Python37\\Include\\box2d.py'\n",
      "         cwd: C:\\Users\\BISHAL~1\\AppData\\Local\\Temp\\pip-install-fzih9jcx\\box2d-py_6028e7479a8b47e095b7ac2a33f051f1\\\n",
      "    Complete output (28 lines):\n",
      "    Using setuptools (version 47.1.0).\n",
      "    running install\n",
      "    running build\n",
      "    running build_py\n",
      "    creating build\n",
      "    creating build\\lib.win-amd64-3.7\n",
      "    creating build\\lib.win-amd64-3.7\\Box2D\n",
      "    copying library\\Box2D\\Box2D.py -> build\\lib.win-amd64-3.7\\Box2D\n",
      "    copying library\\Box2D\\__init__.py -> build\\lib.win-amd64-3.7\\Box2D\n",
      "    creating build\\lib.win-amd64-3.7\\Box2D\\b2\n",
      "    copying library\\Box2D\\b2\\__init__.py -> build\\lib.win-amd64-3.7\\Box2D\\b2\n",
      "    running build_ext\n",
      "    building 'Box2D._Box2D' extension\n",
      "    swigging Box2D\\Box2D.i to Box2D\\Box2D_wrap.cpp\n",
      "    C:\\Users\\BISHAL SAHA\\AppData\\Local\\Programs\\Python\\Python37\\Scripts\\swig.exe -python -c++ -IBox2D -small -O -includeall -ignoremissing -w201 -globals b2Globals -outdir library\\Box2D -keyword -w511 -D_SWIG_KWARGS -o Box2D\\Box2D_wrap.cpp Box2D\\Box2D.i\n",
      "    Box2D\\Common\\b2Math.h(67) : Warning 302: Identifier 'b2Vec2' redefined by %extend (ignored),\n",
      "    Box2D\\Box2D_math.i(47) : Warning 302: %extend definition of 'b2Vec2'.\n",
      "    Box2D\\Common\\b2Math.h(158) : Warning 302: Identifier 'b2Vec3' redefined by %extend (ignored),\n",
      "    Box2D\\Box2D_math.i(168) : Warning 302: %extend definition of 'b2Vec3'.\n",
      "    Box2D\\Common\\b2Math.h(197) : Warning 302: Identifier 'b2Mat22' redefined by %extend (ignored),\n",
      "    Box2D\\Box2D_math.i(301) : Warning 302: %extend definition of 'b2Mat22'.\n",
      "    Box2D\\Common\\b2Math.h(271) : Warning 302: Identifier 'b2Mat33' redefined by %extend (ignored),\n",
      "    Box2D\\Box2D_math.i(372) : Warning 302: %extend definition of 'b2Mat33'.\n",
      "    Box2D\\Collision\\b2DynamicTree.h(44) : Warning 312: Nested union not currently supported (ignored).\n",
      "    Box2D\\Common\\b2Settings.h(144) : Warning 506: Can't wrap varargs with keyword arguments enabled\n",
      "    Box2D\\Common\\b2Math.h(91) : Warning 509: Overloaded method b2Vec2::operator ()(int32) effectively ignored,\n",
      "    Box2D\\Common\\b2Math.h(85) : Warning 509: as it is shadowed by b2Vec2::operator ()(int32) const.\n",
      "    error: Microsoft Visual C++ 14.0 is required. Get it with \"Build Tools for Visual Studio\": https://visualstudio.microsoft.com/downloads/\n",
      "    ----------------------------------------\n",
      "ERROR: Command errored out with exit status 1: 'C:\\Users\\BISHAL SAHA\\AppData\\Local\\Programs\\Python\\Python37\\python.exe' -u -c 'import io, os, sys, setuptools, tokenize; sys.argv[0] = '\"'\"'C:\\\\Users\\\\BISHAL~1\\\\AppData\\\\Local\\\\Temp\\\\pip-install-fzih9jcx\\\\box2d-py_6028e7479a8b47e095b7ac2a33f051f1\\\\setup.py'\"'\"'; __file__='\"'\"'C:\\\\Users\\\\BISHAL~1\\\\AppData\\\\Local\\\\Temp\\\\pip-install-fzih9jcx\\\\box2d-py_6028e7479a8b47e095b7ac2a33f051f1\\\\setup.py'\"'\"';f = getattr(tokenize, '\"'\"'open'\"'\"', open)(__file__) if os.path.exists(__file__) else io.StringIO('\"'\"'from setuptools import setup; setup()'\"'\"');code = f.read().replace('\"'\"'\\r\\n'\"'\"', '\"'\"'\\n'\"'\"');f.close();exec(compile(code, __file__, '\"'\"'exec'\"'\"'))' install --record 'C:\\Users\\BISHAL~1\\AppData\\Local\\Temp\\pip-record-joaqzft8\\install-record.txt' --single-version-externally-managed --user --prefix= --compile --install-headers 'C:\\Users\\BISHAL SAHA\\AppData\\Roaming\\Python\\Python37\\Include\\box2d.py' Check the logs for full command output.\n",
      "WARNING: Ignoring invalid distribution -pencv-python (c:\\users\\bishal saha\\appdata\\roaming\\python\\python37\\site-packages)\n",
      "WARNING: Ignoring invalid distribution -pencv-python (c:\\users\\bishal saha\\appdata\\roaming\\python\\python37\\site-packages)\n",
      "WARNING: Ignoring invalid distribution -pencv-python (c:\\users\\bishal saha\\appdata\\roaming\\python\\python37\\site-packages)\n",
      "WARNING: You are using pip version 21.3.1; however, version 22.3 is available.\n",
      "You should consider upgrading via the 'C:\\Users\\BISHAL SAHA\\AppData\\Local\\Programs\\Python\\Python37\\python.exe -m pip install --upgrade pip' command.\n"
     ]
    }
   ],
   "source": [
    "!pip install box2d.py --user"
   ]
  }
 ],
 "metadata": {
  "kernelspec": {
   "display_name": "Python 3 (ipykernel)",
   "language": "python",
   "name": "python3"
  },
  "language_info": {
   "codemirror_mode": {
    "name": "ipython",
    "version": 3
   },
   "file_extension": ".py",
   "mimetype": "text/x-python",
   "name": "python",
   "nbconvert_exporter": "python",
   "pygments_lexer": "ipython3",
   "version": "3.7.8rc1"
  }
 },
 "nbformat": 4,
 "nbformat_minor": 5
}
